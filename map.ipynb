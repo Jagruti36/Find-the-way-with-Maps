{
 "cells": [
  {
   "cell_type": "code",
   "execution_count": 1,
   "id": "d7f1cee7",
   "metadata": {},
   "outputs": [
    {
     "name": "stdout",
     "output_type": "stream",
     "text": [
      "Triple of list numbers:  [3, 6, 9, 12, 15, 18, 21]\n"
     ]
    }
   ],
   "source": [
    "in_list = [1, 2, 3, 4, 5, 6, 7]\n",
    "def triple(n):\n",
    "    return n * 3\n",
    "result = list(map(triple, in_list))\n",
    "print(\"Triple of list numbers: \",result)"
   ]
  },
  {
   "cell_type": "code",
   "execution_count": null,
   "id": "65d368da",
   "metadata": {},
   "outputs": [],
   "source": []
  }
 ],
 "metadata": {
  "kernelspec": {
   "display_name": "Python 3",
   "language": "python",
   "name": "python3"
  },
  "language_info": {
   "codemirror_mode": {
    "name": "ipython",
    "version": 3
   },
   "file_extension": ".py",
   "mimetype": "text/x-python",
   "name": "python",
   "nbconvert_exporter": "python",
   "pygments_lexer": "ipython3",
   "version": "3.8.8"
  }
 },
 "nbformat": 4,
 "nbformat_minor": 5
}
